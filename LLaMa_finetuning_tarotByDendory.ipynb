{
  "nbformat": 4,
  "nbformat_minor": 0,
  "metadata": {
    "colab": {
      "provenance": [],
      "include_colab_link": true
    },
    "kernelspec": {
      "name": "python3",
      "display_name": "Python 3"
    },
    "language_info": {
      "name": "python"
    },
    "accelerator": "GPU"
  },
  "cells": [
    {
      "cell_type": "markdown",
      "metadata": {
        "id": "view-in-github",
        "colab_type": "text"
      },
      "source": [
        "<a href=\"https://colab.research.google.com/github/gglchrm/tarot_NN/blob/main/LLaMa_finetuning_tarotByDendory.ipynb\" target=\"_parent\"><img src=\"https://colab.research.google.com/assets/colab-badge.svg\" alt=\"Open In Colab\"/></a>"
      ]
    },
    {
      "cell_type": "code",
      "source": [
        "!pip install transformers\n",
        "!pip install accelerate\n",
        "!pip install torch torchdata transformers datasets loralib peft pandas numpy"
      ],
      "metadata": {
        "id": "tUaSYpBOrpfv"
      },
      "execution_count": null,
      "outputs": []
    },
    {
      "cell_type": "code",
      "source": [
        "# Restart session here"
      ],
      "metadata": {
        "id": "kpEsPDlbc8Rw"
      },
      "execution_count": null,
      "outputs": []
    },
    {
      "cell_type": "code",
      "source": [
        "from transformers import LlamaTokenizer, LlamaForCausalLM\n",
        "from torch.utils.data import Dataset, DataLoader\n",
        "from torch.optim import Adam\n",
        "import pandas as pd\n",
        "import torch\n",
        "\n",
        "model_name = \"openlm-research/open_llama_3b_v2\" # Base model to use\n",
        "training_file = \"tarot_readings.csv.1\" # CSV file to use\n",
        "num_epochs = 3 # Number of iterations to train\n",
        "num_rows = 500 # Number of rows to use for training\n",
        "device = torch.device(\"cuda:0\") # cpu or cuda"
      ],
      "metadata": {
        "id": "D5Eezvzm_hrI"
      },
      "execution_count": null,
      "outputs": []
    },
    {
      "cell_type": "code",
      "source": [
        "def fine_tune_model(model, optimizer, batch, device):\n",
        "    model.train()\n",
        "\n",
        "    input_ids = batch['input_ids'].to(device)\n",
        "    attention_mask = batch['attention_mask'].to(device)\n",
        "    labels = batch['target_ids'].to(device)\n",
        "    decoder_attention_mask = batch['target_attention_mask'].to(device)\n",
        "\n",
        "    outputs = model(input_ids=input_ids, attention_mask=attention_mask, labels=labels, decoder_attention_mask=decoder_attention_mask)\n",
        "    loss = outputs.loss\n",
        "    optimizer.zero_grad()\n",
        "    loss.backward()\n",
        "    optimizer.step()\n",
        "\n",
        "    return loss.item()"
      ],
      "metadata": {
        "id": "dcgBjL968G1Z"
      },
      "execution_count": null,
      "outputs": []
    },
    {
      "cell_type": "code",
      "source": [
        "def tacot_reading(model, tokenizer, card1, card2, card3):\n",
        "    prompt = \"Give me a one paragraph tarot reading if I pull the cards {}, {} and {}.\".format(card1, card2, card3)\n",
        "\n",
        "    inputs = tokenizer(prompt, return_tensors=\"pt\")\n",
        "    completion = tokenizer.decode(model.generate(inputs[\"input_ids\"], max_new_tokens=1000)[0], skip_special_tokens=True)\n",
        "\n",
        "    print(\"Prompt: {}\".format(prompt))\n",
        "    print(\"Response: {}\".format(completion))\n",
        "    print()\n",
        "\n",
        "    return completion"
      ],
      "metadata": {
        "id": "NgN9ulov8eak"
      },
      "execution_count": null,
      "outputs": []
    },
    {
      "cell_type": "code",
      "source": [
        "print(\"* Loading model [{}]...\".format(model_name))\n",
        "tokenizer = LlamaTokenizer.from_pretrained(model_path)\n",
        "model = LlamaForCausalLM.from_pretrained(model_path).to(DEVICE)"
      ],
      "metadata": {
        "id": "0mZmi7xJ8Swi"
      },
      "execution_count": null,
      "outputs": []
    },
    {
      "cell_type": "code",
      "source": [
        "print(\"* Running 3 inferences (pre-training)...\")\n",
        "tacot_reading(model, tokenizer, \"The moon\", \"Two of Swords\", \"Three of Wands\")\n",
        "tacot_reading(model, tokenizer, \"The hermit\", \"Ace of Pentacles\", \"Judgement\")\n",
        "tacot_reading(model, tokenizer, \"Seven of Cups\", \"The chariot\", \"King of Swords\")"
      ],
      "metadata": {
        "id": "frNe2f308dty"
      },
      "execution_count": null,
      "outputs": []
    },
    {
      "cell_type": "code",
      "source": [
        "print(\"* Creating dataset from [{}]...\".format(training_file))\n",
        "dataset = create_tarot_dataset(training_file, tokenizer, num_rows)\n",
        "data_loader = DataLoader(dataset, batch_size=16, shuffle=True)"
      ],
      "metadata": {
        "id": "4zyr901B8lqj"
      },
      "execution_count": null,
      "outputs": []
    },
    {
      "cell_type": "code",
      "source": [
        "print(\"* Training model for {} epochs..\".format(num_epochs))\n",
        "optimizer = Adam(model.parameters(), lr=1e-4)\n",
        "for epoch in range(num_epochs):\n",
        "    loss = 0\n",
        "    for batch in data_loader:\n",
        "        loss += fine_tune_model(model, optimizer, batch, device)\n",
        "    print(\"Epoch {} average loss: {}\".format((epoch+1), (loss / len(data_loader))))"
      ],
      "metadata": {
        "id": "gGXs8jJP8py4"
      },
      "execution_count": null,
      "outputs": []
    },
    {
      "cell_type": "code",
      "source": [
        "print(\"* Running 3 inferences (post-training)...\")\n",
        "tacot_reading(model, tokenizer, \"The moon\", \"Two of Swords\", \"Three of Wands\")\n",
        "tacot_reading(model, tokenizer, \"The hermit\", \"Ace of Pentacles\", \"Judgement\")\n",
        "tacot_reading(model, tokenizer, \"Seven of Cups\", \"The chariot\", \"King of Swords\")"
      ],
      "metadata": {
        "id": "BVfe9WBu8szL"
      },
      "execution_count": null,
      "outputs": []
    },
    {
      "cell_type": "code",
      "source": [
        "from transformers import TextDataset, DataCollatorForLanguageModeling\n",
        "\n",
        "train_path = 'taror_reading.csv.1'\n",
        "\n",
        "train_dataset = TextDataset(tokenizer=tokenizer,file_path=train_path,block_size=64)\n",
        "\n",
        "data_collator = DataCollatorForLanguageModeling(tokenizer=tokenizer, mlm=False)"
      ],
      "metadata": {
        "id": "soPxrXgQpFZQ"
      },
      "execution_count": null,
      "outputs": []
    },
    {
      "cell_type": "code",
      "source": [
        "from transformers import Trainer, TrainingArguments\n",
        "\n",
        "training_args = TrainingArguments(\n",
        "    output_dir=\"./finetuned\", #The output directory\n",
        "    overwrite_output_dir=True, #overwrite the content of the output directory\n",
        "    num_train_epochs=8, # number of training epochs\n",
        "    per_device_train_batch_size=1, # batch size for training\n",
        "    per_device_eval_batch_size=1,  # batch size for evaluation\n",
        "    warmup_steps=10,# number of warmup steps for learning rate scheduler\n",
        "    gradient_accumulation_steps=8, # to make \"virtual\" batch size larger\n",
        "    )\n",
        "\n",
        "trainer = Trainer(\n",
        "    model=model,\n",
        "    args=training_args,\n",
        "    data_collator=data_collator,\n",
        "    train_dataset=train_dataset,\n",
        "    optimizers = (torch.optim.AdamW(model.parameters(),lr=1e-5),None) # Optimizer and lr scheduler\n",
        ")"
      ],
      "metadata": {
        "id": "sQH4wBW_pN2d"
      },
      "execution_count": null,
      "outputs": []
    },
    {
      "cell_type": "code",
      "source": [
        "trainer.train()"
      ],
      "metadata": {
        "id": "OVtvq4sLq9EG"
      },
      "execution_count": null,
      "outputs": []
    },
    {
      "cell_type": "code",
      "source": [
        "# Пример вероятностного сэмплирвоания с ограничением\n",
        "#card1 = \"Солнце\"\n",
        "#card2 = \"Маг\"\n",
        "#card3 = \"Шут\"\n",
        "#q = \"Почему я не могу найти работу?\"\n",
        "#text = \"\".format(card1, card2, card3, q)\n",
        "text = \"Карта Таро \\\"Маг\\\" означает следующее:\"\n",
        "input_ids = tokenizer.encode(text, return_tensors=\"pt\").to(DEVICE)\n",
        "model.eval()\n",
        "with torch.no_grad():\n",
        "    out = model.generate(input_ids,\n",
        "                        do_sample=True,\n",
        "                        num_beams=5,\n",
        "                        temperature=1.1,\n",
        "                        top_p=0.9,\n",
        "                        top_k=10,\n",
        "                        max_length=100,\n",
        "                        )\n",
        "\n",
        "generated_text = list(map(tokenizer.decode, out))[0]\n",
        "print()\n",
        "print(generated_text)"
      ],
      "metadata": {
        "colab": {
          "base_uri": "https://localhost:8080/",
          "height": 211
        },
        "id": "R_qjIcBUrq0j",
        "outputId": "ba994e0e-bb83-4719-ee6f-e7f231b22cf6"
      },
      "execution_count": null,
      "outputs": [
        {
          "output_type": "error",
          "ename": "NameError",
          "evalue": "name 'tokenizer' is not defined",
          "traceback": [
            "\u001b[0;31m---------------------------------------------------------------------------\u001b[0m",
            "\u001b[0;31mNameError\u001b[0m                                 Traceback (most recent call last)",
            "\u001b[0;32m<ipython-input-1-4386c6e99cf9>\u001b[0m in \u001b[0;36m<cell line: 8>\u001b[0;34m()\u001b[0m\n\u001b[1;32m      6\u001b[0m \u001b[0mtext\u001b[0m \u001b[0;34m=\u001b[0m \u001b[0;34m\"\"\u001b[0m\u001b[0;34m.\u001b[0m\u001b[0mformat\u001b[0m\u001b[0;34m(\u001b[0m\u001b[0mcard1\u001b[0m\u001b[0;34m,\u001b[0m \u001b[0mcard2\u001b[0m\u001b[0;34m,\u001b[0m \u001b[0mcard3\u001b[0m\u001b[0;34m,\u001b[0m \u001b[0mq\u001b[0m\u001b[0;34m)\u001b[0m\u001b[0;34m\u001b[0m\u001b[0;34m\u001b[0m\u001b[0m\n\u001b[1;32m      7\u001b[0m \u001b[0mtext\u001b[0m \u001b[0;34m=\u001b[0m \u001b[0;34m\"Карта Таро \\\"Маг\\\" означает следующее:\"\u001b[0m\u001b[0;34m\u001b[0m\u001b[0;34m\u001b[0m\u001b[0m\n\u001b[0;32m----> 8\u001b[0;31m \u001b[0minput_ids\u001b[0m \u001b[0;34m=\u001b[0m \u001b[0mtokenizer\u001b[0m\u001b[0;34m.\u001b[0m\u001b[0mencode\u001b[0m\u001b[0;34m(\u001b[0m\u001b[0mtext\u001b[0m\u001b[0;34m,\u001b[0m \u001b[0mreturn_tensors\u001b[0m\u001b[0;34m=\u001b[0m\u001b[0;34m\"pt\"\u001b[0m\u001b[0;34m)\u001b[0m\u001b[0;34m.\u001b[0m\u001b[0mto\u001b[0m\u001b[0;34m(\u001b[0m\u001b[0mDEVICE\u001b[0m\u001b[0;34m)\u001b[0m\u001b[0;34m\u001b[0m\u001b[0;34m\u001b[0m\u001b[0m\n\u001b[0m\u001b[1;32m      9\u001b[0m \u001b[0mmodel\u001b[0m\u001b[0;34m.\u001b[0m\u001b[0meval\u001b[0m\u001b[0;34m(\u001b[0m\u001b[0;34m)\u001b[0m\u001b[0;34m\u001b[0m\u001b[0;34m\u001b[0m\u001b[0m\n\u001b[1;32m     10\u001b[0m \u001b[0;32mwith\u001b[0m \u001b[0mtorch\u001b[0m\u001b[0;34m.\u001b[0m\u001b[0mno_grad\u001b[0m\u001b[0;34m(\u001b[0m\u001b[0;34m)\u001b[0m\u001b[0;34m:\u001b[0m\u001b[0;34m\u001b[0m\u001b[0;34m\u001b[0m\u001b[0m\n",
            "\u001b[0;31mNameError\u001b[0m: name 'tokenizer' is not defined"
          ]
        }
      ]
    }
  ]
}