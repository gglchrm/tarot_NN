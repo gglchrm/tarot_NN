{
  "nbformat": 4,
  "nbformat_minor": 0,
  "metadata": {
    "colab": {
      "provenance": [],
      "gpuType": "T4",
      "include_colab_link": true
    },
    "kernelspec": {
      "name": "python3",
      "display_name": "Python 3"
    },
    "language_info": {
      "name": "python"
    },
    "accelerator": "GPU"
  },
  "cells": [
    {
      "cell_type": "markdown",
      "metadata": {
        "id": "view-in-github",
        "colab_type": "text"
      },
      "source": [
        "<a href=\"https://colab.research.google.com/github/gglchrm/tarot_NN/blob/main/LLaMa_finetuning_cuda.ipynb\" target=\"_parent\"><img src=\"https://colab.research.google.com/assets/colab-badge.svg\" alt=\"Open In Colab\"/></a>"
      ]
    },
    {
      "cell_type": "code",
      "source": [
        "!pip install transformers\n",
        "!pip install accelerate\n",
        "!pip install torch torchdata transformers datasets loralib peft pandas numpy"
      ],
      "metadata": {
        "id": "tUaSYpBOrpfv"
      },
      "execution_count": null,
      "outputs": []
    },
    {
      "cell_type": "code",
      "source": [
        "# Restart session here"
      ],
      "metadata": {
        "id": "kpEsPDlbc8Rw"
      },
      "execution_count": null,
      "outputs": []
    },
    {
      "cell_type": "code",
      "source": [
        "from torch.utils.data import Dataset, DataLoader\n",
        "from torch.optim import Adam\n",
        "import pandas as pd\n",
        "import torch\n",
        "device = \"cuda:0\" # cpu or torch.device(\"cuda:0\")\n",
        "\n",
        "#from transformers import AutoModelForSeq2SeqLM, AutoTokenizer\n",
        "#model_name = \"google/flan-t5-base\" # Base model to use\n",
        "#model = AutoModelForSeq2SeqLM.from_pretrained(model_name).to(device)\n",
        "#tokenizer = AutoTokenizer.from_pretrained(model_name, use_fast=True).to(device)\n",
        "\n",
        "from transformers import LlamaTokenizer, LlamaForCausalLM\n",
        "model_name = \"openlm-research/open_llama_3b_v2\" # Base model to use\n",
        "tokenizer = LlamaTokenizer.from_pretrained(model_name)\n",
        "model = LlamaForCausalLM.from_pretrained(model_name).to(device)\n",
        "\n",
        "training_file = \"tarot_readings.csv\" # CSV file to use\n",
        "num_epochs = 5 # Number of iterations to train\n",
        "num_rows = 500 # Number of rows to use for training"
      ],
      "metadata": {
        "id": "D5Eezvzm_hrI"
      },
      "execution_count": null,
      "outputs": []
    },
    {
      "cell_type": "code",
      "source": [
        "def create_tarot_dataset(csv_file, tokenizer, num_rows=None):\n",
        "    data = pd.read_csv(csv_file)\n",
        "\n",
        "    if num_rows:\n",
        "        data = data[:num_rows]\n",
        "\n",
        "    def tokenize(row):\n",
        "        prompt = \"Give me a one paragraph tarot reading if I pull the cards {}, {} and {}.\".format(row['Card 1'], row[' Card 2'], row[' Card 3'])\n",
        "        reading = row[' Reading']\n",
        "\n",
        "        inputs = tokenizer.encode_plus(prompt, add_special_tokens=True, padding='max_length', max_length=128, truncation=True, return_tensors='pt')\n",
        "        target = tokenizer.encode_plus(reading, add_special_tokens=True, padding='max_length', max_length=128, truncation=True, return_tensors='pt')\n",
        "\n",
        "        return {'input_ids': inputs['input_ids'].squeeze(), 'attention_mask': inputs['attention_mask'].squeeze(), 'target_ids': target['input_ids'].squeeze(), 'target_attention_mask': target['attention_mask'].squeeze()}\n",
        "\n",
        "    dataset = data.apply(tokenize, axis=1).tolist()\n",
        "\n",
        "    return dataset"
      ],
      "metadata": {
        "id": "_gCrAIdhBDS0"
      },
      "execution_count": 2,
      "outputs": []
    },
    {
      "cell_type": "code",
      "source": [
        "def fine_tune_model(model, optimizer, batch, device):\n",
        "    model.train()\n",
        "\n",
        "    input_ids = batch['input_ids'].to(device)\n",
        "    attention_mask = batch['attention_mask'].to(device)\n",
        "    labels = batch['target_ids'].to(device)\n",
        "    decoder_attention_mask = batch['target_attention_mask'].to(device)\n",
        "\n",
        "    outputs = model(input_ids=input_ids, attention_mask=attention_mask, labels=labels, decoder_attention_mask=decoder_attention_mask)\n",
        "    loss = outputs.loss\n",
        "    optimizer.zero_grad()\n",
        "    loss.backward()\n",
        "    optimizer.step()\n",
        "\n",
        "    return loss.item()"
      ],
      "metadata": {
        "id": "dcgBjL968G1Z"
      },
      "execution_count": 4,
      "outputs": []
    },
    {
      "cell_type": "code",
      "source": [
        "def tacot_reading(model, tokenizer, card1, card2, card3):\n",
        "    prompt = \"Give me a one paragraph tarot reading if I pull the cards {}, {} and {}.\".format(card1, card2, card3)\n",
        "\n",
        "    inputs = tokenizer(prompt, return_tensors=\"pt\")\n",
        "    completion = tokenizer.decode(model.generate(inputs[\"input_ids\"].to(device), max_new_tokens=1000)[0], skip_special_tokens=True)\n",
        "\n",
        "    print(\"Prompt: {}\".format(prompt))\n",
        "    print(\"Response: {}\".format(completion))\n",
        "    print()\n",
        "\n",
        "    return completion"
      ],
      "metadata": {
        "id": "NgN9ulov8eak"
      },
      "execution_count": 18,
      "outputs": []
    },
    {
      "cell_type": "code",
      "source": [
        "print(\"* Running 3 inferences (pre-training)...\")\n",
        "tacot_reading(model, tokenizer, \"The moon\", \"Two of Swords\", \"Three of Wands\")\n",
        "tacot_reading(model, tokenizer, \"The hermit\", \"Ace of Pentacles\", \"Judgement\")\n",
        "tacot_reading(model, tokenizer, \"Seven of Cups\", \"The chariot\", \"King of Swords\")"
      ],
      "metadata": {
        "id": "frNe2f308dty"
      },
      "execution_count": null,
      "outputs": []
    },
    {
      "cell_type": "code",
      "source": [
        "print(\"* Creating dataset from [{}]...\".format(training_file))\n",
        "dataset = create_tarot_dataset(training_file, tokenizer, num_rows)\n",
        "data_loader = DataLoader(dataset, batch_size=16, shuffle=True)"
      ],
      "metadata": {
        "id": "4zyr901B8lqj"
      },
      "execution_count": null,
      "outputs": []
    },
    {
      "cell_type": "code",
      "source": [
        "print(\"* Training model for {} epochs..\".format(num_epochs))\n",
        "optimizer = Adam(model.parameters(), lr=1e-4)\n",
        "for epoch in range(num_epochs):\n",
        "    loss = 0\n",
        "    for batch in data_loader:\n",
        "        fine_tune_model(model, optimizer, batch, device)\n",
        "    print(\"Epoch {} average loss: {}\".format((epoch+1), (loss / len(data_loader))))"
      ],
      "metadata": {
        "id": "gGXs8jJP8py4"
      },
      "execution_count": null,
      "outputs": []
    },
    {
      "cell_type": "code",
      "source": [
        "model.save_pretrained(\"./finetuned\")"
      ],
      "metadata": {
        "id": "WQpGoHLppJVK"
      },
      "execution_count": 23,
      "outputs": []
    },
    {
      "cell_type": "code",
      "source": [
        "print(\"* Running 3 inferences (post-training)...\")\n",
        "tacot_reading(model, tokenizer, \"The moon\", \"Two of Swords\", \"Three of Wands\")\n",
        "tacot_reading(model, tokenizer, \"The hermit\", \"Ace of Pentacles\", \"Judgement\")\n",
        "tacot_reading(model, tokenizer, \"Seven of Cups\", \"The chariot\", \"King of Swords\")"
      ],
      "metadata": {
        "id": "BVfe9WBu8szL"
      },
      "execution_count": null,
      "outputs": []
    }
  ]
}